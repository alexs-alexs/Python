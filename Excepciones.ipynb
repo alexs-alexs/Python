{
  "nbformat": 4,
  "nbformat_minor": 0,
  "metadata": {
    "colab": {
      "provenance": [],
      "authorship_tag": "ABX9TyOGHlnfChB8S+eAWFHvC7gc",
      "include_colab_link": true
    },
    "kernelspec": {
      "name": "python3",
      "display_name": "Python 3"
    },
    "language_info": {
      "name": "python"
    }
  },
  "cells": [
    {
      "cell_type": "markdown",
      "metadata": {
        "id": "view-in-github",
        "colab_type": "text"
      },
      "source": [
        "<a href=\"https://colab.research.google.com/github/alexs-alexs/Python/blob/main/Excepciones.ipynb\" target=\"_parent\"><img src=\"https://colab.research.google.com/assets/colab-badge.svg\" alt=\"Open In Colab\"/></a>"
      ]
    },
    {
      "cell_type": "markdown",
      "source": [
        "#Excepcion\n",
        "\n",
        "#Try (Intentar):\n",
        "\n",
        "    La palabra clave \"try\" se utiliza para definir un bloque de código en el que se pueden producir excepciones.\n",
        "    Dentro del bloque \"try\", colocas el código que puede generar una excepción.\n",
        "    Si ocurre una excepción en el bloque \"try\", el flujo de control se traslada al bloque \"except\"."
      ],
      "metadata": {
        "id": "nRQCR7aInFqJ"
      }
    },
    {
      "cell_type": "code",
      "source": [
        "try:\n",
        "    a=int(input(\"introduzca un numero:\"))\n",
        "    b=int(input(\"introduzca otro numero:\"))\n",
        "    suma = a+b\n",
        "    print(suma)\n",
        "except:\n",
        "    print(\"Ocurrio un Error\")"
      ],
      "metadata": {
        "id": "fDYnYM5JnQIg"
      },
      "execution_count": null,
      "outputs": []
    },
    {
      "cell_type": "markdown",
      "source": [
        "#ZeroDivisionError (Error de división por cero):\n",
        "\n",
        "Este código intenta dividir 10 por cero, lo que generará una excepción ZeroDivisionError. El bloque except captura la excepción y muestra un mensaje de error.\n"
      ],
      "metadata": {
        "id": "pO7vYQTBiWCG"
      }
    },
    {
      "cell_type": "code",
      "source": [
        "try:\n",
        "    resultado = 10 / 0\n",
        "except ZeroDivisionError as error:\n",
        "    print(f\"Error de división por cero: {error}\")\n"
      ],
      "metadata": {
        "colab": {
          "base_uri": "https://localhost:8080/"
        },
        "id": "lSD6cm78iY6_",
        "outputId": "fea55372-db01-4e0d-c16c-cc316321df8c"
      },
      "execution_count": null,
      "outputs": [
        {
          "output_type": "stream",
          "name": "stdout",
          "text": [
            "Error de división por cero: division by zero\n"
          ]
        }
      ]
    },
    {
      "cell_type": "markdown",
      "source": [
        "#ValueError (Error de valor):\n",
        "\n",
        "En este ejemplo, se intenta convertir la cadena \"abc\" en un entero, lo que generará una excepción ValueError. El bloque except captura la excepción y muestra un mensaje de error."
      ],
      "metadata": {
        "id": "YZqgPEjrjk3_"
      }
    },
    {
      "cell_type": "code",
      "source": [
        "try:\n",
        "    valor = int(\"abc\")\n",
        "except ValueError as error:\n",
        "    print(f\"Error de valor: {error}\")\n"
      ],
      "metadata": {
        "colab": {
          "base_uri": "https://localhost:8080/"
        },
        "id": "z3FToJMyimW_",
        "outputId": "bf80f892-e3b5-4a17-e09f-29e29b6d2eca"
      },
      "execution_count": null,
      "outputs": [
        {
          "output_type": "stream",
          "name": "stdout",
          "text": [
            "Error de valor: invalid literal for int() with base 10: 'abc'\n"
          ]
        }
      ]
    },
    {
      "cell_type": "markdown",
      "source": [
        "#TypeError (Error de tipo):\n",
        "\n",
        "Aquí, se intenta sumar una cadena y un entero, lo que generará un TypeError. El bloque except captura la excepción y muestra un mensaje de error."
      ],
      "metadata": {
        "id": "71W4QNzFkbPH"
      }
    },
    {
      "cell_type": "code",
      "source": [
        "try:\n",
        "    suma = \"10\" + 5\n",
        "except TypeError as error:\n",
        "    print(f\"Error de tipo: {error}\")\n"
      ],
      "metadata": {
        "id": "9nqZxYXfkhU2"
      },
      "execution_count": null,
      "outputs": []
    },
    {
      "cell_type": "markdown",
      "source": [
        "#NameError (Error de nombre):\n",
        "\n",
        "En este caso, se intenta imprimir una variable (variable_inexistente) que no ha sido definida previamente, lo que generará un NameError. El bloque except captura la excepción y muestra un mensaje de error."
      ],
      "metadata": {
        "id": "pfJLzFYukuj4"
      }
    },
    {
      "cell_type": "code",
      "source": [
        "try:\n",
        "    print(variable_inexistente)\n",
        "except NameError as error:\n",
        "    print(f\"Error de nombre: {error}\")\n"
      ],
      "metadata": {
        "colab": {
          "base_uri": "https://localhost:8080/"
        },
        "id": "Ude_ckiNlbl3",
        "outputId": "f5a051c1-cf24-48f3-f571-7af568a4bf4c"
      },
      "execution_count": null,
      "outputs": [
        {
          "output_type": "stream",
          "name": "stdout",
          "text": [
            "Error de nombre: name 'variable_inexistente' is not defined\n"
          ]
        }
      ]
    },
    {
      "cell_type": "markdown",
      "source": [
        "#IndexError (Error de índice):\n",
        "\n",
        "Este código intenta acceder al elemento en el índice 5 de una lista que solo tiene 3 elementos, lo que generará un IndexError. El bloque except captura la excepción y muestra un mensaje de error."
      ],
      "metadata": {
        "id": "AGLNm2UZln-_"
      }
    },
    {
      "cell_type": "code",
      "source": [
        "try:\n",
        "    lista = [1, 2, 3]\n",
        "    elemento = lista[5]\n",
        "except IndexError as error:\n",
        "    print(f\"Error de índice: {error}\")\n"
      ],
      "metadata": {
        "id": "dxQbSt9Qlvwm",
        "colab": {
          "base_uri": "https://localhost:8080/"
        },
        "outputId": "d954dcf3-c1ff-47ed-9c3b-6d2087af8ba5"
      },
      "execution_count": null,
      "outputs": [
        {
          "output_type": "stream",
          "name": "stdout",
          "text": [
            "Error de índice: list index out of range\n"
          ]
        }
      ]
    },
    {
      "cell_type": "markdown",
      "source": [
        "#FileNotFoundError (Error de archivo no encontrado):\n",
        "\n",
        "En este ejemplo, se intenta abrir un archivo (\"archivo_inexistente.txt\") que no existe en el sistema, lo que generará un FileNotFoundError. El bloque except captura la excepción y muestra un mensaje de error."
      ],
      "metadata": {
        "id": "zEjWT75RmlBH"
      }
    },
    {
      "cell_type": "code",
      "source": [
        "try:\n",
        "    archivo = open(\"archivo_inexistente.txt\", \"r\")\n",
        "except FileNotFoundError as error:\n",
        "    print(f\"Error de archivo no encontrado: {error}\")\n"
      ],
      "metadata": {
        "id": "NRUyfWaam36O"
      },
      "execution_count": null,
      "outputs": []
    }
  ]
}
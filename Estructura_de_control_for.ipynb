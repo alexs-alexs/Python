{
  "nbformat": 4,
  "nbformat_minor": 0,
  "metadata": {
    "colab": {
      "provenance": [],
      "authorship_tag": "ABX9TyMvA8AFbLayiYqIJ4Nc8XIj",
      "include_colab_link": true
    },
    "kernelspec": {
      "name": "python3",
      "display_name": "Python 3"
    },
    "language_info": {
      "name": "python"
    }
  },
  "cells": [
    {
      "cell_type": "markdown",
      "metadata": {
        "id": "view-in-github",
        "colab_type": "text"
      },
      "source": [
        "<a href=\"https://colab.research.google.com/github/alexs-alexs/Python/blob/main/Estructura_de_control_for.ipynb\" target=\"_parent\"><img src=\"https://colab.research.google.com/assets/colab-badge.svg\" alt=\"Open In Colab\"/></a>"
      ]
    },
    {
      "cell_type": "markdown",
      "source": [
        "#LISTAS"
      ],
      "metadata": {
        "id": "XfzCzYfbp7u6"
      }
    },
    {
      "cell_type": "markdown",
      "source": [
        "Crear una lista:\n",
        "Puedes crear una lista utilizando corchetes [] y separando los elementos con comas. Aquí hay un ejemplo de una lista de números:"
      ],
      "metadata": {
        "id": "riK9zA6CsKD_"
      }
    },
    {
      "cell_type": "code",
      "source": [
        "mi_lista = [1, 2, 3, 4, 5]\n",
        "print(mi_lista)"
      ],
      "metadata": {
        "id": "wQc44dG5sIrO",
        "colab": {
          "base_uri": "https://localhost:8080/"
        },
        "outputId": "f7d487c1-d3dd-4b1e-ccaf-515c545b6cb5"
      },
      "execution_count": null,
      "outputs": [
        {
          "output_type": "stream",
          "name": "stdout",
          "text": [
            "[1, 2, 3, 4, 5]\n"
          ]
        }
      ]
    },
    {
      "cell_type": "markdown",
      "source": [
        "También puedes crear una lista vacía simplemente usando corchetes vacíos:"
      ],
      "metadata": {
        "id": "wQx6kHFQsOom"
      }
    },
    {
      "cell_type": "code",
      "source": [
        "lista_vacia = []"
      ],
      "metadata": {
        "id": "Bwn44ZXLsYxN"
      },
      "execution_count": null,
      "outputs": []
    },
    {
      "cell_type": "markdown",
      "source": [
        "Acceder a elementos de una lista:\n",
        "Puedes acceder a elementos individuales de una lista utilizando índices. Los índices en Python comienzan en 0, lo que significa que el primer elemento tiene un índice 0, el segundo tiene un índice 1 y así sucesivamente. Por ejemplo:"
      ],
      "metadata": {
        "id": "B7MWwNMKsZqm"
      }
    },
    {
      "cell_type": "code",
      "source": [
        "mi_lista = [1, 2, 3, 4, 5]\n",
        "primer_elemento = mi_lista[0]  # Acceder al primer elemento (1)\n",
        "segundo_elemento = mi_lista[1]  # Acceder al segundo elemento (2)\n"
      ],
      "metadata": {
        "id": "eIS10rTlshxN"
      },
      "execution_count": null,
      "outputs": []
    },
    {
      "cell_type": "markdown",
      "source": [
        "También puedes acceder a los elementos desde el final de la lista utilizando índices negativos. -1 se refiere al último elemento, -2 al penúltimo, y así sucesivamente."
      ],
      "metadata": {
        "id": "RNj12mEPtJkt"
      }
    },
    {
      "cell_type": "code",
      "source": [
        "ultimo_elemento = mi_lista[-1]  # Acceder al último elemento (5)\n"
      ],
      "metadata": {
        "id": "WjTKAIe1tNhw"
      },
      "execution_count": null,
      "outputs": []
    },
    {
      "cell_type": "markdown",
      "source": [
        "Modificar elementos de una lista:\n",
        "Puedes cambiar el valor de un elemento específico en una lista asignándole un nuevo valor utilizando su índice. Por ejemplo:"
      ],
      "metadata": {
        "id": "ceTw57e4tQrX"
      }
    },
    {
      "cell_type": "code",
      "source": [
        "mi_lista = [1, 2, 3, 4, 5]\n",
        "mi_lista[2] = 10  # Cambiar el tercer elemento (índice 2) a 10\n"
      ],
      "metadata": {
        "id": "JOfcYGjitS91"
      },
      "execution_count": null,
      "outputs": []
    },
    {
      "cell_type": "markdown",
      "source": [
        "Agregar elementos a una lista:\n",
        "Puedes agregar elementos a una lista utilizando el método append(), que agrega un elemento al final de la lista:"
      ],
      "metadata": {
        "id": "yVeX6D5gt7Q6"
      }
    },
    {
      "cell_type": "code",
      "source": [
        "mi_lista = [1, 2, 3]\n",
        "mi_lista.append(4)  # Agregar 4 al final de la lista\n"
      ],
      "metadata": {
        "id": "rv33H70Kt-DO"
      },
      "execution_count": null,
      "outputs": []
    },
    {
      "cell_type": "markdown",
      "source": [
        "Eliminar elementos de una lista:\n",
        "Puedes eliminar elementos de una lista utilizando el método remove() para eliminar un elemento específico por su valor o del para eliminar un elemento por su índice. Por ejemplo:"
      ],
      "metadata": {
        "id": "0fCyokvauh_6"
      }
    },
    {
      "cell_type": "code",
      "source": [
        "mi_lista = [1, 2, 3, 4, 5]\n",
        "mi_lista.remove(3)  # Eliminar el valor 3 de la lista\n",
        "del mi_lista[1]     # Eliminar el segundo elemento (índice 1) pocision\n"
      ],
      "metadata": {
        "id": "3MEmL0AAurXF"
      },
      "execution_count": null,
      "outputs": []
    },
    {
      "cell_type": "markdown",
      "source": [
        "#Listas de Listas"
      ],
      "metadata": {
        "id": "GWo7GyYI5xJ-"
      }
    },
    {
      "cell_type": "markdown",
      "source": [
        "Ejemplo:"
      ],
      "metadata": {
        "id": "DWN2DNi557mV"
      }
    },
    {
      "cell_type": "code",
      "source": [
        "matriz = [[1, 2], [3, 4]]\n"
      ],
      "metadata": {
        "id": "P0esgiIs57_c"
      },
      "execution_count": null,
      "outputs": []
    },
    {
      "cell_type": "markdown",
      "source": [
        "Ejemplo:"
      ],
      "metadata": {
        "id": "HZS65gDK63f5"
      }
    },
    {
      "cell_type": "code",
      "source": [
        "nombres = [[\"Juan\", \"María\"], [\"Pedro\", \"Ana\"], [\"Carlos\", \"Laura\"]]\n"
      ],
      "metadata": {
        "id": "AOs97ZdV65pY"
      },
      "execution_count": null,
      "outputs": []
    },
    {
      "cell_type": "markdown",
      "source": [
        "Realizar el ejemplo de la clase anterior a base de listas\n",
        "\n",
        "    usuarios_clave = [\n",
        "    [\"ejecutivo@gmail.com\", \"$50dato50$\"],\n",
        "    [\"ventas@gmail.com\", \"#venntas2023\"],\n",
        "    [\"gerencia@gmail.com\", \"tugerente\"]\n",
        "    ]\n"
      ],
      "metadata": {
        "id": "XwRvfXPB295s"
      }
    },
    {
      "cell_type": "code",
      "source": [
        "usuarios_clave = [\n",
        "[\"ejecutivo@gmail.com\", \"$50dato50$\"],\n",
        "[\"ventas@gmail.com\", \"#venntas2023\"],\n",
        "[\"gerencia@gmail.com\", \"tugerente\"]\n",
        "]\n",
        "\n",
        "intentos = 3\n",
        "\n",
        "while intentos > 0:\n",
        "\n",
        "    correo=str(input(\"introduzca su correo:\"))\n",
        "    clave=str(input(\"introduzca su contraseña:\"))\n",
        "\n",
        "    if [correo,clave] in usuarios_clave:\n",
        "        print(\"inicio exitoso\")\n",
        "        break\n",
        "    else:\n",
        "        intentos -=1\n",
        "        print(f\"tiene {intentos} intentos\")\n"
      ],
      "metadata": {
        "colab": {
          "base_uri": "https://localhost:8080/"
        },
        "id": "aPjcZVLPqHoQ",
        "outputId": "21deca47-1159-4c66-f4d1-df54c2968405"
      },
      "execution_count": null,
      "outputs": [
        {
          "output_type": "stream",
          "name": "stdout",
          "text": [
            "introduzca su correo:ejecutivo@gmail.com\n",
            "introduzca su contraseña:$50dato50$\n",
            "inicio exitoso\n"
          ]
        }
      ]
    },
    {
      "cell_type": "markdown",
      "source": [
        "#Estructura for"
      ],
      "metadata": {
        "id": "msEAhzLevdGW"
      }
    },
    {
      "cell_type": "markdown",
      "source": [
        "### (1) Itera cada letra del abecedario  con el bucle for"
      ],
      "metadata": {
        "id": "nEsL_SlJviJd"
      }
    },
    {
      "cell_type": "code",
      "source": [
        "abc = [\"a\",\"b\",\"c\",\"d\",\"e\",\"f\",\"g\",\"h\",\"i\",\"j\",\"k\",\"l\",\"m\",\"n\",\"o\",\"p\",\"q\",\"r\",\"s\",\"t\",\"u\",\"v\",\"w\",\"x\",\"y\",\"z\" ]\n",
        "\n",
        "for variable in abc:\n",
        "  print(variable)"
      ],
      "metadata": {
        "colab": {
          "base_uri": "https://localhost:8080/"
        },
        "id": "4kA9kCItYu_X",
        "outputId": "9205b865-8820-4038-abe8-23e46d7f48cb"
      },
      "execution_count": null,
      "outputs": [
        {
          "output_type": "stream",
          "name": "stdout",
          "text": [
            "a\n",
            "b\n",
            "c\n",
            "d\n",
            "e\n",
            "f\n",
            "g\n",
            "h\n",
            "i\n",
            "j\n",
            "k\n",
            "l\n",
            "m\n",
            "n\n",
            "o\n",
            "p\n",
            "q\n",
            "r\n",
            "s\n",
            "t\n",
            "u\n",
            "v\n",
            "w\n",
            "x\n",
            "y\n",
            "z\n"
          ]
        }
      ]
    },
    {
      "cell_type": "markdown",
      "source": [
        "### (2) Itera la siguiente lista\n",
        "    lista = [1, 2, 3, 4, 5]"
      ],
      "metadata": {
        "id": "gQzxQDogvpI-"
      }
    },
    {
      "cell_type": "code",
      "source": [
        "lista = [1,2,3,4,5]\n",
        "\n",
        "for u in lista:\n",
        "  print(u)"
      ],
      "metadata": {
        "colab": {
          "base_uri": "https://localhost:8080/"
        },
        "id": "V4IlHaMoZh7f",
        "outputId": "3f1aecba-1044-43c3-9ed3-7244f5cc57ae"
      },
      "execution_count": null,
      "outputs": [
        {
          "output_type": "stream",
          "name": "stdout",
          "text": [
            "1\n",
            "2\n",
            "3\n",
            "4\n",
            "5\n"
          ]
        }
      ]
    },
    {
      "cell_type": "markdown",
      "source": [
        "Ejemplo 1: Iterar sobre una lista"
      ],
      "metadata": {
        "id": "V0Dzb86kvy5u"
      }
    },
    {
      "cell_type": "code",
      "source": [
        "frutas = [\"manzana\", \"plátano\", \"naranja\"]\n",
        "for fruta in frutas:\n",
        "    print(fruta)\n"
      ],
      "metadata": {
        "id": "U0xMvuBmwx3v",
        "colab": {
          "base_uri": "https://localhost:8080/"
        },
        "outputId": "c5f694f6-ae8d-4b0a-c1d6-bab9b49b5d3c"
      },
      "execution_count": null,
      "outputs": [
        {
          "output_type": "stream",
          "name": "stdout",
          "text": [
            "manzana\n",
            "plátano\n",
            "naranja\n"
          ]
        }
      ]
    },
    {
      "cell_type": "markdown",
      "source": [
        "Este código imprimirá cada elemento de la lista frutas en una línea separada.\n",
        "\n",
        "Ejemplo 2: Iterar sobre una cadena de caracteres"
      ],
      "metadata": {
        "id": "fWWCiX8dxPiV"
      }
    },
    {
      "cell_type": "code",
      "source": [
        "mensaje = \"Hola, mundo!\"\n",
        "for letra in mensaje:\n",
        "    print(letra)\n"
      ],
      "metadata": {
        "id": "HT9Ajl4KxQmc",
        "colab": {
          "base_uri": "https://localhost:8080/"
        },
        "outputId": "f64be368-18f0-4817-c0b6-4c2f1dca93f0"
      },
      "execution_count": null,
      "outputs": [
        {
          "output_type": "stream",
          "name": "stdout",
          "text": [
            "H\n",
            "o\n",
            "l\n",
            "a\n",
            ",\n",
            " \n",
            "m\n",
            "u\n",
            "n\n",
            "d\n",
            "o\n",
            "!\n"
          ]
        }
      ]
    },
    {
      "cell_type": "markdown",
      "source": [
        "Tarea: guardar datos e iterar\n",
        "\n",
        "    datos = [ \"nombre\",\"apellidoPaterno\",\"apellidomaterno\" ]"
      ],
      "metadata": {
        "id": "NDLlsZcmZ31o"
      }
    },
    {
      "cell_type": "code",
      "source": [],
      "metadata": {
        "id": "n0hkMMUsaIdm"
      },
      "execution_count": null,
      "outputs": []
    },
    {
      "cell_type": "markdown",
      "source": [
        "##Funcion range( ) en python"
      ],
      "metadata": {
        "id": "8M0_FFH_x_Lm"
      }
    },
    {
      "cell_type": "markdown",
      "source": [
        "La función range() en Python se utiliza comúnmente en bucles for para generar una secuencia de números enteros. Esta función es especialmente útil cuando deseas ejecutar un bucle un número específico de veces o cuando necesitas generar una secuencia de números para iterar sobre ellos. La sintaxis básica de la función range() es la siguiente:\n",
        "\n",
        "    range(fin)\n",
        "    range(inicio, fin)\n",
        "    range(inicio, fin, paso)"
      ],
      "metadata": {
        "id": "P9bZdHg8yasF"
      }
    },
    {
      "cell_type": "markdown",
      "source": [
        "Ejemplo 1: Usando solo el valor de \"fin\" en range()"
      ],
      "metadata": {
        "id": "1YS6sKh8yl2V"
      }
    },
    {
      "cell_type": "code",
      "source": [
        "for i in range(5):\n",
        "    print(i)\n"
      ],
      "metadata": {
        "id": "I1jAXWkP0PsU",
        "colab": {
          "base_uri": "https://localhost:8080/"
        },
        "outputId": "ee77b3b5-cc0b-4005-aed4-90b566262389"
      },
      "execution_count": null,
      "outputs": [
        {
          "output_type": "stream",
          "name": "stdout",
          "text": [
            "0\n",
            "1\n",
            "2\n",
            "3\n",
            "4\n"
          ]
        }
      ]
    },
    {
      "cell_type": "markdown",
      "source": [
        "Ejemplo 2: Especificando \"inicio\" y \"fin\" en range()"
      ],
      "metadata": {
        "id": "8OP0vbrL0QfG"
      }
    },
    {
      "cell_type": "code",
      "source": [
        "for i in range(2, 6):\n",
        "    print(i)\n"
      ],
      "metadata": {
        "id": "DcMkDzNQ0TXU",
        "colab": {
          "base_uri": "https://localhost:8080/"
        },
        "outputId": "ea14bcd1-efee-468b-ef67-357c5080c02d"
      },
      "execution_count": null,
      "outputs": [
        {
          "output_type": "stream",
          "name": "stdout",
          "text": [
            "2\n",
            "3\n",
            "4\n",
            "5\n"
          ]
        }
      ]
    },
    {
      "cell_type": "markdown",
      "source": [
        "Ejemplo 3: Especificando \"inicio\", \"fin\" y \"paso\" en range()"
      ],
      "metadata": {
        "id": "G7Fhted50Z3N"
      }
    },
    {
      "cell_type": "code",
      "source": [
        "for i in range(1, 10, 2):\n",
        "    print(i)\n"
      ],
      "metadata": {
        "id": "j5KzCaDS0bas",
        "colab": {
          "base_uri": "https://localhost:8080/"
        },
        "outputId": "71394005-ddf0-432c-f8a4-c55c901e9710"
      },
      "execution_count": null,
      "outputs": [
        {
          "output_type": "stream",
          "name": "stdout",
          "text": [
            "1\n",
            "3\n",
            "5\n",
            "7\n",
            "9\n"
          ]
        }
      ]
    },
    {
      "cell_type": "markdown",
      "source": [
        "Tarea: Realizar un contador que genere numeros de 10 en 10 hasta el 500"
      ],
      "metadata": {
        "id": "pZ2xWH400nFG"
      }
    },
    {
      "cell_type": "code",
      "source": [],
      "metadata": {
        "id": "VawDPsQz07eu"
      },
      "execution_count": null,
      "outputs": []
    },
    {
      "cell_type": "markdown",
      "source": [
        "#DICCIONARIOS EN PYTHON"
      ],
      "metadata": {
        "id": "cQRZm1st2ICk"
      }
    },
    {
      "cell_type": "markdown",
      "source": [
        "Crear un diccionario:"
      ],
      "metadata": {
        "id": "uC6ks_OH2LNI"
      }
    },
    {
      "cell_type": "code",
      "source": [
        "mi_diccionario = {'Nombre':'Juan','edad':50}\n",
        "\n",
        "print(mi_diccionario)\n",
        "\n",
        "tu_diccionario=dict(Ciudad ='La paz',Telefono=70472)\n",
        "\n",
        "print(tu_diccionario)"
      ],
      "metadata": {
        "colab": {
          "base_uri": "https://localhost:8080/"
        },
        "id": "9732REjCwLXu",
        "outputId": "dc247ad6-a3d0-456a-9ee4-946acc40fd33"
      },
      "execution_count": null,
      "outputs": [
        {
          "output_type": "stream",
          "name": "stdout",
          "text": [
            "{'Nombre': 'Juan', 'edad': 50}\n",
            "{'Ciudad': 'La paz', 'Telefono': 70472}\n"
          ]
        }
      ]
    },
    {
      "cell_type": "markdown",
      "source": [
        "Acceder a un valor mediante una clave:"
      ],
      "metadata": {
        "id": "2NepZA1_2SxX"
      }
    },
    {
      "cell_type": "code",
      "source": [
        "mi_diccionario = {'Nombre':'Juan','edad':50}\n",
        "\n",
        "print(mi_diccionario['edad'])"
      ],
      "metadata": {
        "colab": {
          "base_uri": "https://localhost:8080/"
        },
        "id": "Z-ECaDzxxwXe",
        "outputId": "aa69f8d5-c2c6-4dc9-a278-191541258e69"
      },
      "execution_count": null,
      "outputs": [
        {
          "output_type": "stream",
          "name": "stdout",
          "text": [
            "50\n"
          ]
        }
      ]
    },
    {
      "cell_type": "markdown",
      "source": [
        "Modificar un valor en el diccionario:"
      ],
      "metadata": {
        "id": "gySYEfvp2TP8"
      }
    },
    {
      "cell_type": "code",
      "source": [
        "mi_diccionario = {'Nombre':'Juan','edad':50}\n",
        "\n",
        "mi_diccionario['Nombre']='Alex'\n",
        "\n",
        "print(mi_diccionario)"
      ],
      "metadata": {
        "id": "JHPrVKW2yW_t"
      },
      "execution_count": null,
      "outputs": []
    },
    {
      "cell_type": "markdown",
      "source": [
        "Agregar nuevos elementos al diccionario:"
      ],
      "metadata": {
        "id": "hnoc9cmq2U-s"
      }
    },
    {
      "cell_type": "code",
      "source": [
        "mi_diccionario = {'Nombre':'Juan','edad':50}\n",
        "\n",
        "mi_diccionario['profesion']='Informatico'\n",
        "\n",
        "print(mi_diccionario)\n"
      ],
      "metadata": {
        "id": "AioVtAdlyp9T"
      },
      "execution_count": null,
      "outputs": []
    },
    {
      "cell_type": "markdown",
      "source": [
        "Eliminar elementos del diccionario:"
      ],
      "metadata": {
        "id": "BeHKDanB2Wjc"
      }
    },
    {
      "cell_type": "code",
      "source": [
        "mi_diccionario = {'Nombre':'Juan','edad':50}\n",
        "\n",
        "del mi_diccionario['Nombre']\n",
        "\n",
        "print(mi_diccionario)"
      ],
      "metadata": {
        "id": "6Yz8BO99y74N"
      },
      "execution_count": null,
      "outputs": []
    },
    {
      "cell_type": "markdown",
      "source": [
        "Comprobar si una clave existe en el diccionario:"
      ],
      "metadata": {
        "id": "BbfPpH792X8O"
      }
    },
    {
      "cell_type": "code",
      "source": [
        "mi_diccionario = {'Nombre':'Juan','edad':50,'profesion':'Tecnico'}\n",
        "\n",
        "if 'profesion' in mi_diccionario:\n",
        "    print(\"Clave encontrada\")\n",
        "else:\n",
        "    print(\"No hay dato\")"
      ],
      "metadata": {
        "id": "zGorU6zpzcKb"
      },
      "execution_count": null,
      "outputs": []
    },
    {
      "cell_type": "markdown",
      "source": [
        "Iterar a través de las claves y valores:"
      ],
      "metadata": {
        "id": "43qKliB_2Zqt"
      }
    },
    {
      "cell_type": "code",
      "source": [
        "mi_diccionario = {'Nombre':'Juan','edad':50,'profesion':'Tecnico'}\n",
        "\n",
        "for clave,valor in mi_diccionario.items():\n",
        "    print(clave,valor)"
      ],
      "metadata": {
        "id": "jTJVFVTO0iKl"
      },
      "execution_count": null,
      "outputs": []
    },
    {
      "cell_type": "markdown",
      "source": [
        "Longitud de un diccionario:"
      ],
      "metadata": {
        "id": "2VAgnxei2eZa"
      }
    },
    {
      "cell_type": "code",
      "source": [
        "mi_diccionario = {'Nombre':'Juan','edad':50,'profesion':'Tecnico'}\n",
        "\n",
        "print(len(mi_diccionario))"
      ],
      "metadata": {
        "id": "utxZccmU0kRr"
      },
      "execution_count": null,
      "outputs": []
    },
    {
      "cell_type": "markdown",
      "source": [
        "#ARCHIVOS JSON"
      ],
      "metadata": {
        "id": "J9SKG5tp2hWd"
      }
    },
    {
      "cell_type": "markdown",
      "source": [
        "    •   'r' (read - lectura): Este modo se utiliza para abrir un archivo en modo de lectura. Puedes usarlo para leer el contenido del archivo, pero no puedes realizar operaciones de escritura en él. Si el archivo no existe, se producirá un error.\n",
        "    •  'w' (write - escritura): Este modo se utiliza para abrir un archivo en modo de escritura. Si el archivo ya existe, su contenido se borrará y se reemplazará con el nuevo contenido que escribas en él. Si el archivo no existe, se creará uno nuevo.\n",
        "    •  'a' (append - agregar): Este modo se utiliza para abrir un archivo en modo de escritura, pero no borra el contenido existente. En su lugar, agrega nuevo contenido al final del archivo. Si el archivo no existe, se creará uno nuevo.\n",
        "    •  'x' (exclusive creation - creación exclusiva): Este modo se utiliza para crear un nuevo archivo para escritura, pero si el archivo ya existe, se producirá un error en lugar de sobrescribirlo.\n",
        "    •  'b' (binary mode - modo binario): Puedes agregar 'b' a cualquiera de los modos anteriores (por ejemplo, 'rb' o 'wb') para abrir el archivo en modo binario. Esto es útil al trabajar con archivos binarios como imágenes o archivos de datos.\n",
        "    •  't' (text mode - modo de texto): Este es el modo predeterminado y se utiliza para abrir el archivo en modo de texto. Puedes agregar 't' a cualquiera de los modos anteriores (por ejemplo, 'rt' o 'wt') para especificar explícitamente que el archivo se abre en modo de texto.\n"
      ],
      "metadata": {
        "id": "yJ_TTh0C2kbE"
      }
    },
    {
      "cell_type": "markdown",
      "source": [
        "Crear un Objeto JSON y guardarlo en un archivo"
      ],
      "metadata": {
        "id": "3j6i8Ucq1nor"
      }
    },
    {
      "cell_type": "code",
      "source": [
        "import json\n",
        "\n",
        "datos={\n",
        "       \"Nombre\":\"Juan\",\n",
        "       \"Edad\":30,\n",
        "       \"Ciudad\":\"Santa Cruz\"\n",
        "       }\n",
        "\n",
        "with open ('datos.json','w') as archivo_json:\n",
        "    json.dump(datos,archivo_json)"
      ],
      "metadata": {
        "id": "DDXR1dQB4yUd"
      },
      "execution_count": null,
      "outputs": []
    },
    {
      "cell_type": "markdown",
      "source": [
        "Leer un Objeto Json"
      ],
      "metadata": {
        "id": "E7g6HFnC5QDL"
      }
    },
    {
      "cell_type": "code",
      "source": [
        "import json\n",
        "\n",
        "with open('informacion.json','r') as archivo_json:\n",
        "    datos_cargados=json.load(archivo_json)\n",
        "\n",
        "print(datos_cargados)"
      ],
      "metadata": {
        "id": "NsPwlXbQ5TuM"
      },
      "execution_count": null,
      "outputs": []
    }
  ]
}
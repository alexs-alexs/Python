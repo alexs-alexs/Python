{
  "nbformat": 4,
  "nbformat_minor": 0,
  "metadata": {
    "colab": {
      "provenance": [],
      "authorship_tag": "ABX9TyPaosDIvWwNg+Ckq8N05+vp",
      "include_colab_link": true
    },
    "kernelspec": {
      "name": "python3",
      "display_name": "Python 3"
    },
    "language_info": {
      "name": "python"
    }
  },
  "cells": [
    {
      "cell_type": "markdown",
      "metadata": {
        "id": "view-in-github",
        "colab_type": "text"
      },
      "source": [
        "<a href=\"https://colab.research.google.com/github/alexs-alexs/Python/blob/main/PYTHON_Y_POO.ipynb\" target=\"_parent\"><img src=\"https://colab.research.google.com/assets/colab-badge.svg\" alt=\"Open In Colab\"/></a>"
      ]
    },
    {
      "cell_type": "markdown",
      "source": [
        "#POO EN PYTHON"
      ],
      "metadata": {
        "id": "YYpGSfcZeTH_"
      }
    },
    {
      "cell_type": "markdown",
      "source": [
        "Conceptos fundamentales de la POO en Python:\n",
        "\n",
        "#Clase\n",
        "  Clase: Una clase es una plantilla o un plano para crear objetos. Define los atributos (variables) y los métodos (funciones) que los objetos creados a partir de ella tendrán. En Python, puedes definir una clase de la siguiente manera:"
      ],
      "metadata": {
        "id": "X8Mwi_7OeXN-"
      }
    },
    {
      "cell_type": "code",
      "source": [
        "class Miclase:\n",
        "  variable=\"Hola\"\n",
        "  atributo=\"Mundo\"\n",
        "\n",
        "objeto = Miclase()\n",
        "\n",
        "print(objeto.variable)"
      ],
      "metadata": {
        "id": "JEMcNlUWGJ41",
        "colab": {
          "base_uri": "https://localhost:8080/"
        },
        "outputId": "585012b4-a5b3-4746-fd48-24df19d052dd"
      },
      "execution_count": null,
      "outputs": [
        {
          "output_type": "stream",
          "name": "stdout",
          "text": [
            "Hola\n"
          ]
        }
      ]
    },
    {
      "cell_type": "markdown",
      "source": [
        "#Metodos\n",
        "En la programación orientada a objetos, los métodos son funciones definidas dentro de una clase que realizan acciones o cálculos específicos relacionados con los objetos de esa clase. Los métodos encapsulan la lógica y el comportamiento asociados con los objetos de la clase y pueden acceder y modificar los atributos del objeto.\n",
        "\n",
        "Los métodos en Python se definen dentro de una clase utilizando la palabra clave def, al igual que las funciones regulares. La diferencia clave es que el primer parámetro de un método (por convención llamado self) hace referencia al propio objeto en el que se llama el método. Esto permite que los métodos accedan a los atributos y otros métodos del objeto.\n"
      ],
      "metadata": {
        "id": "h32CZVwQknNt"
      }
    },
    {
      "cell_type": "code",
      "source": [
        "class Miclase:\n",
        "\n",
        "    def mifuncion(self):\n",
        "      print(\"saludos desde mi funcion\")\n",
        "\n",
        "    def mimetodo(self):\n",
        "      print(\"Saludos desde mi metodo\")\n",
        "\n",
        "objeto = Miclase()\n",
        "\n",
        "objeto.mifuncion()\n",
        "objeto.mimetodo()\n"
      ],
      "metadata": {
        "id": "bxyR6pUhGMDk",
        "colab": {
          "base_uri": "https://localhost:8080/"
        },
        "outputId": "468b3e1d-f1ed-4d05-a5c0-e60be716ba43"
      },
      "execution_count": null,
      "outputs": [
        {
          "output_type": "stream",
          "name": "stdout",
          "text": [
            "saludos desde mi funcion\n",
            "Saludos desde mi metodo\n"
          ]
        }
      ]
    },
    {
      "cell_type": "markdown",
      "source": [
        "#OBJETOS\n",
        "\n",
        "Un objeto en la programación orientada a objetos es una instancia concreta de una clase. Es una entidad que combina datos (atributos) y funciones (métodos) que operan en esos datos. Los objetos representan cosas del mundo real o conceptos abstractos y se utilizan para modelar y resolver problemas de programación de una manera estructurada y modular.\n",
        "\n",
        "Aquí hay algunos aspectos clave relacionados con los objetos en POO:\n",
        "\n",
        "    Instancia de una Clase: Un objeto es una instancia específica de una clase. Una clase es una plantilla que define la estructura y el comportamiento de un objeto, mientras que el objeto es una representación concreta basada en esa plantilla."
      ],
      "metadata": {
        "id": "NqyPZBW1mfen"
      }
    },
    {
      "cell_type": "markdown",
      "source": [
        "  El if __name__ == \"__main__\": es una construcción en Python que se utiliza para determinar si un script de Python se está ejecutando como programa principal o si está siendo importado como un módulo en otro script. Esta construcción se utiliza comúnmente en scripts de Python para modularizar y organizar el código de manera eficiente."
      ],
      "metadata": {
        "id": "OPNZbe84nyP9"
      }
    },
    {
      "cell_type": "code",
      "source": [
        "# Este es un módulo llamado \"modulo_ejemplo.py\"\n",
        "\n",
        "class Ejemplo:\n",
        "  def funcion_ejemplo(self):\n",
        "    print(\"Función en modulo_ejemplo\")\n",
        "\n",
        "clase1 = Ejemplo()\n",
        "\n",
        "if __name__ == \"__main__\":\n",
        "\n",
        "    clase1.funcion_ejemplo()\n"
      ],
      "metadata": {
        "colab": {
          "base_uri": "https://localhost:8080/"
        },
        "id": "4qsZfe0Cn7x1",
        "outputId": "fb7c5cf4-2dce-4586-cf0e-2cdb001ec8f0"
      },
      "execution_count": null,
      "outputs": [
        {
          "output_type": "stream",
          "name": "stdout",
          "text": [
            "Función en modulo_ejemplo\n"
          ]
        }
      ]
    },
    {
      "cell_type": "markdown",
      "source": [
        "#Ejemplo:\n",
        "\n",
        "Realizar un programa con la clase principal \"restaurant\"  y que tenga los metodos de \"empleados\" , \"platos\" , \"ventas\"  "
      ],
      "metadata": {
        "id": "FTx2JSB2qLQF"
      }
    },
    {
      "cell_type": "code",
      "source": [
        "class Restaurant:\n",
        "    def empleados(self):\n",
        "        self.cocinero= [\"Chef Alexander\",\"Chef Julio\"]\n",
        "        self.meseros=[\"Juan\",\"Maria\",\"Alex\",\"Pedro\"]\n",
        "    def platos(self):\n",
        "        platos={\"pollo\":15,\"pescado\":30,\"cerdo\":25 }\n",
        "\n",
        "    def ventas(self):\n",
        "        print(self.cocinero)\n",
        "\n",
        "objeto1 = Restaurant()\n",
        "\n",
        "objeto1.ventas()\n"
      ],
      "metadata": {
        "id": "qHLlSOr8GTDu",
        "colab": {
          "base_uri": "https://localhost:8080/"
        },
        "outputId": "b7a62461-a8e8-4890-81a5-6922079bbdff"
      },
      "execution_count": null,
      "outputs": [
        {
          "output_type": "stream",
          "name": "stdout",
          "text": [
            "['Chef Alexander', 'Chef Julio']\n"
          ]
        }
      ]
    },
    {
      "cell_type": "markdown",
      "source": [
        "segunda version"
      ],
      "metadata": {
        "id": "ee4A8X-ogwYz"
      }
    },
    {
      "cell_type": "code",
      "source": [
        "class Restaurant:\n",
        "\n",
        "    def __init__(self):\n",
        "        self.platos={\"pollo\":15,\"pescado\":30,\"cerdo\":25 }\n",
        "        self.ventas()\n",
        "\n",
        "    def empleados(self):\n",
        "        self.cocinero= [\"Chef Alexander\",\"Chef Julio\"]\n",
        "        self.meseros=[\"Juan\",\"Maria\",\"Alex\",\"Pedro\"]\n",
        "\n",
        "    def ventas(self):\n",
        "        total = 0\n",
        "        print(\"elija una opcion:\")\n",
        "        print(\"1) pollo\")\n",
        "        print(\"2) pescado\")\n",
        "        print(\"3) cerdo\")\n",
        "        print(\"4) salir\")\n",
        "\n",
        "        while True:\n",
        "           cantidad = int(input(\"elija una opcion:\"))\n",
        "           if cantidad == 1:\n",
        "              total = total + self.platos[\"pollo\"]\n",
        "           elif cantidad == 2 :\n",
        "              total = total + self.platos[\"pescado\"]\n",
        "           elif cantidad == 3 :\n",
        "              total = total + self.platos[\"cerdo\"]\n",
        "           elif cantidad == 4:\n",
        "              print(\"costo total:\",total)\n",
        "              break\n",
        "\n",
        "\n",
        "objeto1 = Restaurant()\n",
        "\n"
      ],
      "metadata": {
        "colab": {
          "base_uri": "https://localhost:8080/"
        },
        "id": "C2HGqKBBguns",
        "outputId": "cd2391d0-c562-4a51-fa4c-e653457d3df4"
      },
      "execution_count": null,
      "outputs": [
        {
          "output_type": "stream",
          "name": "stdout",
          "text": [
            "elija una opcion:\n",
            "1) pollo\n",
            "2) pescado\n",
            "3) cerdo\n",
            "4) salir\n",
            "elija una opcion:1\n",
            "elija una opcion:3\n",
            "elija una opcion:1\n",
            "elija una opcion:4\n",
            "costo total: 55\n"
          ]
        }
      ]
    },
    {
      "cell_type": "markdown",
      "source": [
        "El método __init__ es un método especial en Python que se utiliza para inicializar los atributos de una clase cuando se crea una instancia de esa clase. Es conocido como el \"constructor\" de la clase y se llama automáticamente cuando se crea un objeto a partir de la clase.\n"
      ],
      "metadata": {
        "id": "aEqYqmpd7vrD"
      }
    },
    {
      "cell_type": "code",
      "source": [
        "class Persona:\n",
        "    def __init__(self, nombre, edad):\n",
        "        self.nombre = nombre\n",
        "        self.edad = edad\n",
        "\n",
        "# Crear una instancia de la clase Persona y pasar valores a __init__\n",
        "persona1 = Persona(\"Juan\", 30)\n",
        "\n",
        "# Acceder a los atributos de la instancia\n",
        "print(persona1.nombre)  # Imprimirá \"Juan\"\n",
        "print(persona1.edad)    # Imprimirá 30\n"
      ],
      "metadata": {
        "id": "zb_-uPd77418",
        "colab": {
          "base_uri": "https://localhost:8080/"
        },
        "outputId": "69436a2b-5c1e-4853-f525-6fc131b80b9c"
      },
      "execution_count": null,
      "outputs": [
        {
          "output_type": "stream",
          "name": "stdout",
          "text": [
            "Juan\n",
            "30\n"
          ]
        }
      ]
    },
    {
      "cell_type": "markdown",
      "source": [
        "TAREA:\n",
        "\n",
        "Realizar un programa con la clase principal Veterinaria y que tenga los metodos de \"medico\" , \"servicios\" , \"Ventas\""
      ],
      "metadata": {
        "id": "HbdB2rlA48Sk"
      }
    },
    {
      "cell_type": "code",
      "source": [],
      "metadata": {
        "id": "iMdayQcVlvT8"
      },
      "execution_count": null,
      "outputs": []
    }
  ]
}
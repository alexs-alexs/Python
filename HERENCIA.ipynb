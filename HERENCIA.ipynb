{
  "nbformat": 4,
  "nbformat_minor": 0,
  "metadata": {
    "colab": {
      "provenance": [],
      "toc_visible": true,
      "authorship_tag": "ABX9TyPKgaN74OXZM81qzx+VAVmo",
      "include_colab_link": true
    },
    "kernelspec": {
      "name": "python3",
      "display_name": "Python 3"
    },
    "language_info": {
      "name": "python"
    }
  },
  "cells": [
    {
      "cell_type": "markdown",
      "metadata": {
        "id": "view-in-github",
        "colab_type": "text"
      },
      "source": [
        "<a href=\"https://colab.research.google.com/github/alexs-alexs/Python/blob/main/HERENCIA.ipynb\" target=\"_parent\"><img src=\"https://colab.research.google.com/assets/colab-badge.svg\" alt=\"Open In Colab\"/></a>"
      ]
    },
    {
      "cell_type": "markdown",
      "source": [
        "#ENCAPSULAMIENTO"
      ],
      "metadata": {
        "id": "ciAJtTiWiD7v"
      }
    },
    {
      "cell_type": "markdown",
      "source": [
        " El encapsulamiento se refiere a la práctica de ocultar los detalles internos de un objeto y proporcionar una interfaz pública a través de la cual otros objetos pueden interactuar con él. Esto se logra mediante la combinación de datos (variables o atributos) y métodos (funciones o procedimientos) en una sola entidad llamada \"objeto\" y controlando el acceso a los datos desde fuera de ese objeto.\n",
        "\n",
        " En lenguajes de programación que admiten la POO, como Java, C++, Python y muchos otros, se utilizan palabras clave como \"public,\" \"private\" y \"protected\" para especificar el nivel de acceso a los miembros de una clase (atributos y métodos). Esto permite implementar el encapsulamiento de manera efectiva y asegurarse de que los objetos se utilicen de acuerdo con las restricciones establecidas por la clase."
      ],
      "metadata": {
        "id": "Z19NpyZKiFWg"
      }
    },
    {
      "cell_type": "code",
      "source": [
        "class Persona:\n",
        "  def __init__(self,nombre,apellido,edad):\n",
        "    self.__nombre = nombre\n",
        "    self.apellido = apellido\n",
        "    self.edad = edad\n",
        "\n",
        "  def mostrar_datos(self):\n",
        "    print(f\"Nombre:{self.__nombre} Apellido:{self.apellido} Edad:{self.edad}\")\n",
        "\n",
        "persona_1 = Persona(\"Juan\",\"Perez\",50)\n",
        "\n",
        "persona_1.__nombre=\"Juan Jose\"\n",
        "\n",
        "persona_1.mostrar_datos()\n"
      ],
      "metadata": {
        "id": "zPnOlurHMPbe",
        "colab": {
          "base_uri": "https://localhost:8080/"
        },
        "outputId": "55fae241-b134-47e1-eed8-9b8df72c5b21"
      },
      "execution_count": null,
      "outputs": [
        {
          "output_type": "stream",
          "name": "stdout",
          "text": [
            "Nombre:Juan Apellido:Perez Edad:50\n"
          ]
        }
      ]
    },
    {
      "cell_type": "markdown",
      "source": [
        "#Getter y Setter\n",
        "\n",
        "Los \"getters\" y \"setters\" son métodos utilizados en la programación orientada a objetos (POO) para acceder y modificar los atributos de un objeto de manera controlada, respetando el principio de encapsulamiento. Estos métodos son comunes en lenguajes de programación como Java, C++, C#, Python y otros que permiten la encapsulación de datos."
      ],
      "metadata": {
        "id": "HN2EVmhss2uW"
      }
    },
    {
      "cell_type": "code",
      "source": [
        "class Persona:\n",
        "  def __init__(self,nombre,apellido,edad):\n",
        "    self.__nombre = nombre\n",
        "    self.apellido = apellido\n",
        "    self.edad = edad\n",
        "\n",
        "\n",
        "  def get_nombre(self):\n",
        "      return self.__nombre\n",
        "\n",
        "  def set_nombre(self,nombre):\n",
        "      self.__nombre=nombre\n",
        "\n",
        "  def mostrar_datos(self):\n",
        "    print(f\"Nombre:{self.__nombre} Apellido:{self.apellido} Edad:{self.edad}\")\n",
        "\n",
        "persona_1 = Persona(\"Juan\",\"Perez\",50)\n",
        "\n",
        "persona_1.set_nombre(\"Juan jose\")\n",
        "\n",
        "persona_1.mostrar_datos()\n",
        "\n",
        "print(persona_1.get_nombre())"
      ],
      "metadata": {
        "id": "gM1y3qjqMRxo",
        "colab": {
          "base_uri": "https://localhost:8080/"
        },
        "outputId": "2b4274a2-df50-4a32-b057-557ec0dd25a9"
      },
      "execution_count": null,
      "outputs": [
        {
          "output_type": "stream",
          "name": "stdout",
          "text": [
            "Nombre:Juan jose Apellido:Perez Edad:50\n",
            "Juan jose\n"
          ]
        }
      ]
    },
    {
      "cell_type": "markdown",
      "source": [
        "En Python, puedes utilizar los decoradores @property y @nombre.setter para implementar getters y setters de manera más elegante y Pythonic. Estos decoradores permiten que los métodos de acceso y modificación de atributos se comporten como si fueran atributos normales, pero aún te permiten agregar lógica personalizada dentro de ellos si es necesario."
      ],
      "metadata": {
        "id": "9EZvb2_OvP6M"
      }
    },
    {
      "cell_type": "code",
      "source": [
        "class Persona:\n",
        "  def __init__(self,nombre,apellido,edad):\n",
        "    self.__nombre = nombre\n",
        "    self.apellido = apellido\n",
        "    self.edad = edad\n",
        "\n",
        "  @property\n",
        "  def nombre(self):\n",
        "      return self.__nombre\n",
        "  @nombre.setter\n",
        "  def nombre(self,nombre):\n",
        "      self.__nombre=nombre\n",
        "\n",
        "  def mostrar_datos(self):\n",
        "    print(f\"Nombre:{self.__nombre} Apellido:{self.apellido} Edad:{self.edad}\")\n",
        "\n",
        "persona_1 = Persona(\"Juan\",\"Perez\",50)\n",
        "\n",
        "persona_1.__nombre = \"Alex\"\n",
        "\n",
        "print(persona_1.__nombre)\n"
      ],
      "metadata": {
        "id": "_bOveAJUMTmG",
        "colab": {
          "base_uri": "https://localhost:8080/"
        },
        "outputId": "15564ae9-bc9f-4fe0-aca3-7dc21a03984a"
      },
      "execution_count": null,
      "outputs": [
        {
          "output_type": "stream",
          "name": "stdout",
          "text": [
            "Alex\n"
          ]
        }
      ]
    },
    {
      "cell_type": "markdown",
      "source": [
        "#Herencia"
      ],
      "metadata": {
        "id": "Yu7cauMi1weK"
      }
    },
    {
      "cell_type": "markdown",
      "source": [
        "La herencia es uno de los conceptos fundamentales en la Programación Orientada a Objetos (POO) y se refiere a la capacidad de una clase (llamada clase derivada o subclase) de heredar atributos y métodos de otra clase (llamada clase base o superclase). La herencia permite la creación de una nueva clase que es una versión especializada o extendida de una clase existente, lo que promueve la reutilización de código y la organización de clases en una jerarquía.\n",
        "\n",
        "\n",
        "La herencia es uno de los conceptos fundamentales en la Programación Orientada a Objetos (POO) y se refiere a la capacidad de una clase (llamada clase derivada o subclase) de heredar atributos y métodos de otra clase (llamada clase base o superclase). La herencia permite la creación de una nueva clase que es una versión especializada o extendida de una clase existente, lo que promueve la reutilización de código y la organización de clases en una jerarquía."
      ],
      "metadata": {
        "id": "LIlxhU7A1mTb"
      }
    },
    {
      "cell_type": "code",
      "source": [
        "class Restaurant:\n",
        "   def __init__(self,nombre_s,direccion):\n",
        "    self.nombre_s=nombre_s\n",
        "    self.direccion = direccion\n",
        "\n",
        "class Empleado(Restaurant):\n",
        "   def __init__(self,nombre,sueldo,nombre_s,direccion):\n",
        "    super().__init__(nombre_s,direccion)\n",
        "    self.nombre=nombre\n",
        "    self.sueldo=sueldo\n",
        "\n",
        "\n",
        "empleado1 = Empleado(\"Alex\",2200,\"Norte\",\"La Paz\")\n",
        "\n",
        "\n",
        "print(empleado1.sueldo)\n",
        "\n",
        "\n",
        "\n",
        "\n"
      ],
      "metadata": {
        "id": "_uOvp_V3MW79",
        "colab": {
          "base_uri": "https://localhost:8080/"
        },
        "outputId": "97ffbce8-4964-4e1a-850c-6de5e731c29f"
      },
      "execution_count": null,
      "outputs": [
        {
          "output_type": "stream",
          "name": "stdout",
          "text": [
            "2200\n"
          ]
        }
      ]
    }
  ]
}
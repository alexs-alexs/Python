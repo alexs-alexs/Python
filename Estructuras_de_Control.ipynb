{
  "nbformat": 4,
  "nbformat_minor": 0,
  "metadata": {
    "colab": {
      "provenance": [],
      "include_colab_link": true
    },
    "kernelspec": {
      "name": "python3",
      "display_name": "Python 3"
    },
    "language_info": {
      "name": "python"
    }
  },
  "cells": [
    {
      "cell_type": "markdown",
      "metadata": {
        "id": "view-in-github",
        "colab_type": "text"
      },
      "source": [
        "<a href=\"https://colab.research.google.com/github/alexs-alexs/Python/blob/main/Estructuras_de_Control.ipynb\" target=\"_parent\"><img src=\"https://colab.research.google.com/assets/colab-badge.svg\" alt=\"Open In Colab\"/></a>"
      ]
    },
    {
      "cell_type": "markdown",
      "source": [
        "EJERCICIOS BASICOS DE PYTHON NIVEL 1:\n",
        "\n",
        "NOMBRE:"
      ],
      "metadata": {
        "id": "tQCh6Cpy3NtH"
      }
    },
    {
      "cell_type": "markdown",
      "source": [
        "#CONDICIONES"
      ],
      "metadata": {
        "id": "hFtZRkFjBk0k"
      }
    },
    {
      "cell_type": "markdown",
      "source": [
        "### (1) Escribir un programa que solicite al usuario un número entero y muestre en pantalla si el número es Positivo [+] o Negativo [ - ]. En caso de que el número sea igual a cero [0] se debe mostrar en pantalla: El número no es Positivo ni Negativo."
      ],
      "metadata": {
        "id": "LFbJn2hz6JG9"
      }
    },
    {
      "cell_type": "code",
      "source": [
        "dato=int(input(\"introduzca un numero:\"))\n",
        "\n",
        "\n",
        "if (dato == 0):\n",
        "  print(\"no es positivo ni negativo\")\n",
        "\n",
        "else:\n",
        "  if dato>0:\n",
        "    print(\"Positivo\")\n",
        "  else:\n",
        "    print(\"Negativo\")\n",
        "\n"
      ],
      "metadata": {
        "id": "4be2BP0Z6dMo",
        "colab": {
          "base_uri": "https://localhost:8080/"
        },
        "outputId": "2b5e0d73-7c07-4865-eeac-6adedd48842a"
      },
      "execution_count": null,
      "outputs": [
        {
          "output_type": "stream",
          "name": "stdout",
          "text": [
            "introduzca un numero:0\n",
            "no es positivo ni negattivo\n"
          ]
        }
      ]
    },
    {
      "cell_type": "markdown",
      "source": [
        "### (2) Introducir un número por teclado y que se muestre un mensaje indicando si es par o impar."
      ],
      "metadata": {
        "id": "hGUU-ESV7Gh7"
      }
    },
    {
      "cell_type": "code",
      "source": [
        "numero=int(input(\"Introduzca un numero:\"))\n",
        "if numero != 0:\n",
        "  if numero % 2 == 0:\n",
        "    print(\"el numero es par\")\n",
        "  else:\n",
        "    print(\"El numero es impar\")\n",
        "else:\n",
        "  print(\"es Cero\")"
      ],
      "metadata": {
        "id": "y1b2IfUn7RYs",
        "colab": {
          "base_uri": "https://localhost:8080/"
        },
        "outputId": "73706a2d-86cb-4de6-ce56-d63e38198cdf"
      },
      "execution_count": null,
      "outputs": [
        {
          "output_type": "stream",
          "name": "stdout",
          "text": [
            "Introduzca un numero:4\n",
            "el numero es par\n"
          ]
        }
      ]
    },
    {
      "cell_type": "markdown",
      "source": [
        "### (3) Introducir un número por teclado y que se muestre un mensaje indicando si es múltiplo de 3."
      ],
      "metadata": {
        "id": "D9Db3dDx7yzU"
      }
    },
    {
      "cell_type": "code",
      "source": [
        "numero=int(input(\"Introduzca un numero:\"))\n",
        "\n",
        "if numero % 3 == 0:\n",
        "  print(\"el numero es multiplo de 3\")\n",
        "else:\n",
        "  print(\"El numero No es multiplo de 3\")\n"
      ],
      "metadata": {
        "id": "xpk47dL673Is",
        "colab": {
          "base_uri": "https://localhost:8080/"
        },
        "outputId": "be4301e4-f8e5-4989-f0c1-917388883c2c"
      },
      "execution_count": null,
      "outputs": [
        {
          "output_type": "stream",
          "name": "stdout",
          "text": [
            "Introduzca un numero:9\n",
            "el numero es multiplo de 3\n"
          ]
        }
      ]
    },
    {
      "cell_type": "markdown",
      "source": [
        "### (4) Escribir un programa para una empresa que tiene salas de juegos para todas las edades y quiere calcular de forma automática el precio que debe cobrar a sus clientes por entrar. El programa debe preguntar al usuario la edad del cliente y mostrar el precio de la entrada. Si el cliente es menor de 4 años puede entrar gratis, si tiene entre 4 y 18 años debe pagar 5€ y si es mayor de 18 años, 10€."
      ],
      "metadata": {
        "id": "d0BvR2UTA65X"
      }
    },
    {
      "cell_type": "code",
      "source": [
        "edad = int(input(\"introduzca su edad\"))\n",
        "\n",
        "if edad<4:\n",
        "  print(\"ingresa gratis\")\n",
        "else:\n",
        "  if edad>=4 and edad<18:\n",
        "      print(\"paga 5€\")\n",
        "  else:\n",
        "    if edad>=18:\n",
        "      print(\"paga 10€\")"
      ],
      "metadata": {
        "id": "mwr5LwGJA_cP",
        "colab": {
          "base_uri": "https://localhost:8080/"
        },
        "outputId": "b34425c0-743a-4c57-89b1-99e7cb80d968"
      },
      "execution_count": null,
      "outputs": [
        {
          "output_type": "stream",
          "name": "stdout",
          "text": [
            "introduzca su edad15\n",
            "paga 5€\n"
          ]
        }
      ]
    },
    {
      "cell_type": "markdown",
      "source": [
        "### (5) Haz una calculadora básica pida al usuario dos valores, a y b.\n",
        "\n",
        "Según la opción que desean, realizar la operación:\n",
        "\n",
        "    Si operación es 1 entonces debemos ver el resultado de a + b\n",
        "    Si operación es 2 entonces debemos ver el resultado de a * b\n",
        "    Si operación es 3 entonces debemos ver el resultado de a - b\n",
        "    Si operación es 4 entonces debemos ver el resultado de a / b"
      ],
      "metadata": {
        "id": "GZG1haxxBBC_"
      }
    },
    {
      "cell_type": "code",
      "source": [
        "a=float(input(\"introduzca un numero:\"))\n",
        "b=float(input(\"introduzca otro numero\"))\n",
        "op=str(input(\"introduzca un operador:\"))\n",
        "\n",
        "if op=='+':\n",
        "  suma = a+b\n",
        "  print(\"suma:\",suma)\n",
        "elif op=='-':\n",
        "  res=a-b\n",
        "  print(\"resta:\",res)\n",
        "elif op=='*':\n",
        "  mul=a*b\n",
        "  print(\"multiplicacion:\",mul)\n",
        "elif op=='/':\n",
        "  div=a/b\n",
        "  print(\"Divison:\",div)"
      ],
      "metadata": {
        "colab": {
          "base_uri": "https://localhost:8080/"
        },
        "id": "Tp02wFYQbzXO",
        "outputId": "cc6d3868-8634-46e3-94ad-0acd0b9f0073"
      },
      "execution_count": null,
      "outputs": [
        {
          "output_type": "stream",
          "name": "stdout",
          "text": [
            "introduzca un numero:4\n",
            "introduzca otro numero2\n",
            "introduzca un operador:*\n",
            "multiplicacion: 8.0\n"
          ]
        }
      ]
    },
    {
      "cell_type": "markdown",
      "source": [
        "# ESTRUCTURA REPETITIVA while( )"
      ],
      "metadata": {
        "id": "PJZOFQq8CTwj"
      }
    },
    {
      "cell_type": "markdown",
      "source": [
        "### (1) Realiza un contador del 1 al 10"
      ],
      "metadata": {
        "id": "sBiX6xMcDFyF"
      }
    },
    {
      "cell_type": "code",
      "source": [
        "c=1\n",
        "while c<=10:\n",
        "  print(c)\n",
        "  c += 1\n"
      ],
      "metadata": {
        "id": "-cyqQVRcIKxW",
        "colab": {
          "base_uri": "https://localhost:8080/"
        },
        "outputId": "1bd227f4-cfc3-423c-9378-09c8b5d078ca"
      },
      "execution_count": null,
      "outputs": [
        {
          "output_type": "stream",
          "name": "stdout",
          "text": [
            "1\n",
            "2\n",
            "3\n",
            "4\n",
            "5\n",
            "6\n",
            "7\n",
            "8\n",
            "9\n",
            "10\n"
          ]
        }
      ]
    },
    {
      "cell_type": "markdown",
      "source": [
        "### (2) Realiza la tabla de multiplicar"
      ],
      "metadata": {
        "id": "hwjYw17VKJis"
      }
    },
    {
      "cell_type": "code",
      "source": [
        "numero = int(input(\"introduzca un numero:\"))\n",
        "c=1\n",
        "while c<=10:\n",
        "  print(f\"{c} * {numero} =  {c*numero}\" )\n",
        "  c = c + 1\n"
      ],
      "metadata": {
        "id": "MLlZyaVsMzhv",
        "colab": {
          "base_uri": "https://localhost:8080/"
        },
        "outputId": "6e8832d8-4b97-493c-e8f3-958db540e50e"
      },
      "execution_count": null,
      "outputs": [
        {
          "output_type": "stream",
          "name": "stdout",
          "text": [
            "introduzca un numero:5\n",
            "1 * 5 =  5\n",
            "2 * 5 =  10\n",
            "3 * 5 =  15\n",
            "4 * 5 =  20\n",
            "5 * 5 =  25\n",
            "6 * 5 =  30\n",
            "7 * 5 =  35\n",
            "8 * 5 =  40\n",
            "9 * 5 =  45\n",
            "10 * 5 =  50\n"
          ]
        }
      ]
    },
    {
      "cell_type": "markdown",
      "source": [
        "##MANEJO DE DIGITOS"
      ],
      "metadata": {
        "id": "_WPoJHe1Jy0K"
      }
    },
    {
      "cell_type": "markdown",
      "source": [
        "### (3) Introduzca un Numero y verifique cuantos digitos tiene"
      ],
      "metadata": {
        "id": "L8ZPMDBlP6GK"
      }
    },
    {
      "cell_type": "code",
      "source": [
        "numero = int(input(\"introduzca un numero:\"))\n",
        "c=0\n",
        "while numero>0:\n",
        "  #print(numero)\n",
        "  numero = numero//10\n",
        "  c = c + 1\n",
        "\n",
        "print(\"El numero tiene:\",c,\" digitos\")\n",
        "\n",
        "\n"
      ],
      "metadata": {
        "colab": {
          "base_uri": "https://localhost:8080/"
        },
        "id": "q4C24DPvlnWg",
        "outputId": "97acfdb5-c53a-4ada-a08c-08ea501ee659"
      },
      "execution_count": null,
      "outputs": [
        {
          "output_type": "stream",
          "name": "stdout",
          "text": [
            "introduzca un numero:48768465\n",
            "El numero tiene: 8  digitos\n"
          ]
        }
      ]
    },
    {
      "cell_type": "markdown",
      "source": [
        "### (4) Introduzca un Numero y verificar cuandos  ceros validos tiene"
      ],
      "metadata": {
        "id": "FgRLCbGrPmth"
      }
    },
    {
      "cell_type": "code",
      "source": [
        "numero = int(input(\"introduzca un numero:\"))\n",
        "c=0\n",
        "while numero>0:\n",
        "  dig=numero%10\n",
        "  numero=numero//10\n",
        "  if dig == 0:\n",
        "     c += 1\n",
        "\n",
        "print(f\"la cantidad de ceros en el numero es:{c} \")"
      ],
      "metadata": {
        "colab": {
          "base_uri": "https://localhost:8080/"
        },
        "id": "-V64rN2JotTv",
        "outputId": "d6e4972b-bfe9-412c-9dc3-aba2202ee011"
      },
      "execution_count": null,
      "outputs": [
        {
          "output_type": "stream",
          "name": "stdout",
          "text": [
            "introduzca un numero:050480\n",
            "la cantidad de ceros en el numero es:2 \n"
          ]
        }
      ]
    },
    {
      "cell_type": "markdown",
      "source": [
        "### (5)  Introduzca un Numero y realice la suma de sus digitos"
      ],
      "metadata": {
        "id": "WhiSt3yOQlFf"
      }
    },
    {
      "cell_type": "code",
      "source": [
        "numero = int(input(\"introduzca un numero:\"))\n",
        "c=0\n",
        "while numero>0:\n",
        "  dig=numero%10\n",
        "  numero=numero//10\n",
        "  if dig==0:\n",
        "    c+=1\n",
        "\n",
        "print(f\"la cantidad de digitos en el numero es:\")"
      ],
      "metadata": {
        "id": "bR3sfT2AqLxQ",
        "colab": {
          "base_uri": "https://localhost:8080/"
        },
        "outputId": "e8261ba7-836d-4833-ba28-337b182161c6"
      },
      "execution_count": null,
      "outputs": [
        {
          "output_type": "stream",
          "name": "stdout",
          "text": [
            "introduzca un numero:1034\n",
            "la cantidad de digitos en el numero es:\n"
          ]
        }
      ]
    },
    {
      "cell_type": "markdown",
      "source": [
        "##VALIDACIONES"
      ],
      "metadata": {
        "id": "6-RMV9KgTGv6"
      }
    },
    {
      "cell_type": "markdown",
      "source": [
        "### (6) Validación de entrada de usuario para obtener un número positivo"
      ],
      "metadata": {
        "id": "ptm6PYwFTMOj"
      }
    },
    {
      "cell_type": "code",
      "source": [
        "while True:\n",
        "  numero = int(input(\"ingrese un numero positivo\"))\n",
        "  if numero>0:\n",
        "    print(\"numero aceptado\")\n",
        "    break\n",
        "  else:\n",
        "    print(\"Error ingrese un numero\")\n"
      ],
      "metadata": {
        "colab": {
          "base_uri": "https://localhost:8080/"
        },
        "id": "TX0S4pokuOro",
        "outputId": "eae1f709-4b16-4ce4-8e49-64b045ee69d6"
      },
      "execution_count": null,
      "outputs": [
        {
          "output_type": "stream",
          "name": "stdout",
          "text": [
            "ingrese un numero positivo-5\n",
            "Error ingrese un numero\n",
            "ingrese un numero positivo0\n",
            "Error ingrese un numero\n",
            "ingrese un numero positivo8\n",
            "numero aceptado\n"
          ]
        }
      ]
    },
    {
      "cell_type": "markdown",
      "source": [
        "### (7) Validación de contraseña"
      ],
      "metadata": {
        "id": "l--U3N7dUTE2"
      }
    },
    {
      "cell_type": "code",
      "source": [
        "contrasena = \"contraseña123\"\n",
        "intentos = 3\n",
        "\n",
        "while intentos > 0:\n",
        "  dato=str(input(\"introduzca su contraseña:\"))\n",
        "  if contrasena == dato:\n",
        "      print(\"Contraseña Correcta\")\n",
        "      break\n",
        "  else:\n",
        "      intentos -= 1 # intentos = intentos - 1\n",
        "      print(f\"le queda {intentos} intentos\")\n",
        "  if intentos == 0:\n",
        "      print(\"termino sus intentos\")\n"
      ],
      "metadata": {
        "colab": {
          "base_uri": "https://localhost:8080/"
        },
        "id": "6nGMr38awVuZ",
        "outputId": "337f0cdb-d86e-474b-86ed-2cf03c33aa50"
      },
      "execution_count": null,
      "outputs": [
        {
          "output_type": "stream",
          "name": "stdout",
          "text": [
            "introduzca su contraseña:con123\n",
            "le queda 2 intentos\n",
            "introduzca su contraseña:123\n",
            "le queda 1 intentos\n",
            "introduzca su contraseña:1dsa\n",
            "le queda 0 intentos\n",
            "termino sus intentos\n"
          ]
        }
      ]
    },
    {
      "cell_type": "markdown",
      "source": [
        "### (8) Validación de selección de menú"
      ],
      "metadata": {
        "id": "4vhPBW_NUfw7"
      }
    },
    {
      "cell_type": "code",
      "source": [
        "while True:\n",
        "  print(\"opcion 1\")\n",
        "  print(\"opcion 2\")\n",
        "  print(\"opcion 3\")\n",
        "  opcion = input(\"introduzca una opcion:\")\n",
        "  if opcion=='1':\n",
        "    print(\"Helado\")\n",
        "  elif opcion == '2':\n",
        "    print (\"papas fritas\")\n",
        "  elif opcion == '3':\n",
        "    print(\"Refrescos\")\n",
        "  elif opcion=='4':\n",
        "    print(\"saliendo\")\n",
        "    break\n",
        "\n"
      ],
      "metadata": {
        "colab": {
          "base_uri": "https://localhost:8080/"
        },
        "id": "W2PYeeTMyWWg",
        "outputId": "3ec8e28f-3917-46e5-e19e-f12167b1a579"
      },
      "execution_count": null,
      "outputs": [
        {
          "output_type": "stream",
          "name": "stdout",
          "text": [
            "opcion 1\n",
            "opcion 2\n",
            "opcion 3\n",
            "introduzca una opcion:4\n",
            "saliendo\n"
          ]
        }
      ]
    },
    {
      "cell_type": "markdown",
      "source": [
        "### (9) Validacion de correos"
      ],
      "metadata": {
        "id": "YA6IUMBIatCb"
      }
    },
    {
      "cell_type": "code",
      "source": [
        "while True:\n",
        "\n",
        "  correo = str(input(\"introduzca su correo:\"))\n",
        "  if \"@gmail.com\" in correo:\n",
        "      print(\"correo valido\")\n",
        "      break\n",
        "  else:\n",
        "    print(\"El correo debe tener el dominio @gmail.com\")\n",
        "\n"
      ],
      "metadata": {
        "colab": {
          "base_uri": "https://localhost:8080/"
        },
        "id": "-ds2U_r5zZ9d",
        "outputId": "5b86c182-d29b-4240-c580-27fa105d651e"
      },
      "execution_count": null,
      "outputs": [
        {
          "output_type": "stream",
          "name": "stdout",
          "text": [
            "introduzca su correo:alexandre@outlook.com\n",
            "El correo debe tener el dominio @gmail.com\n",
            "introduzca su correo:aaaaa.com \n",
            "El correo debe tener el dominio @gmail.com\n",
            "introduzca su correo:alex@gmail.com\n",
            "correo valido\n"
          ]
        }
      ]
    },
    {
      "cell_type": "markdown",
      "source": [
        "### (10) Genera un Login donde valide El usuario y contraseña\n",
        "\n",
        "\n",
        "Los datos debe ser:\n",
        "\n",
        "    ejecutivo@gmail.com  → $50dato50$\n",
        "    ventas@gmail.com → #venntas2023\n",
        "    gerencia@.com  → tugerente\n",
        "\n",
        "\n",
        "    Salida : Usuario correcto\n",
        "\n",
        "Limitar la cantidad de intentos en 3"
      ],
      "metadata": {
        "id": "85NEnZCAa2fC"
      }
    },
    {
      "cell_type": "code",
      "source": [
        "usuario1 = \"ejecutivo@gmail.com\"\n",
        "usuario2 = \"ventas@gmail.com\"\n",
        "usuario3 = \"gerencia@gmail.com\"\n",
        "\n",
        "cont1 = \"$50dato50$\"\n",
        "cont2 = \"#venntas2023\"\n",
        "cont3 = \"tugerente\"\n",
        "intentos = 3\n",
        "\n",
        "while intentos > 0:\n",
        "    correo = input(\"Introduzca su correo: \")\n",
        "\n",
        "    # Verificar si el correo tiene el dominio \"@gmail.com\"\n",
        "    if \"@gmail.com\" in correo:\n",
        "        if correo == usuario1:\n",
        "            contraseña = input(\"Introduzca su contraseña: \")\n",
        "            if contraseña == cont1:\n",
        "                print(\"Inicio de sesión exitoso para el ejecutivo.\")\n",
        "                break\n",
        "            else:\n",
        "                print(\"Contraseña incorrecta. Inténtelo de nuevo.\")\n",
        "        elif correo == usuario2:\n",
        "            contraseña = input(\"Introduzca su contraseña: \")\n",
        "            if contraseña == cont2:\n",
        "                print(\"Inicio de sesión exitoso para ventas.\")\n",
        "                break\n",
        "            else:\n",
        "                print(\"Contraseña incorrecta. Inténtelo de nuevo.\")\n",
        "        elif correo == usuario3:\n",
        "            contraseña = input(\"Introduzca su contraseña: \")\n",
        "            if contraseña == cont3:\n",
        "                print(\"Inicio de sesión exitoso para gerencia.\")\n",
        "                break\n",
        "            else:\n",
        "                print(\"Contraseña incorrecta. Inténtelo de nuevo.\")\n",
        "        else:\n",
        "            print(\"Usuario no válido. Inténtelo de nuevo.\")\n",
        "    else:\n",
        "        print(\"El correo ingresado no es de dominio @gmail.com. Inténtelo de nuevo.\")\n",
        "    intentos -= 1\n",
        "\n",
        "if intentos == 0:\n",
        "    print(\"Número máximo de intentos alcanzado. Cuenta bloqueada.\")\n",
        "\n",
        "\n"
      ],
      "metadata": {
        "colab": {
          "base_uri": "https://localhost:8080/"
        },
        "id": "2DY-t1jH4zJ-",
        "outputId": "0fc0ae00-76a0-469b-bf82-4d643f4c6001"
      },
      "execution_count": 5,
      "outputs": [
        {
          "output_type": "stream",
          "name": "stdout",
          "text": [
            "Introduzca su correo: #venntas2023\n",
            "El correo ingresado no es de dominio @gmail.com. Inténtelo de nuevo.\n",
            "Introduzca su correo: ventas@gmail.com\n",
            "Introduzca su contraseña: #venntas2023\n",
            "Inicio de sesión exitoso para ventas.\n"
          ]
        }
      ]
    }
  ]
}